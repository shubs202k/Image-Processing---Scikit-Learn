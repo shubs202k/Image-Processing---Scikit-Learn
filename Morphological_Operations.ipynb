{
 "cells": [
  {
   "cell_type": "code",
   "execution_count": null,
   "metadata": {},
   "outputs": [],
   "source": [
    "#Structuring elements are nothing but simple matrices that are used as probes \n",
    "#with images to have some morphological operations\n",
    "\n",
    "%matplotlib inline\n",
    "from skimage import morphology\n",
    "import numpy as np\n",
    "\n",
    "#Square as a structuring element\n",
    "print(morphology.square(4, np.uint8))\n",
    "print('\\n')"
   ]
  },
  {
   "cell_type": "code",
   "execution_count": null,
   "metadata": {},
   "outputs": [],
   "source": [
    "print(morphology.rectangle(6, 2,np.float16))\n",
    "print('\\n')"
   ]
  },
  {
   "cell_type": "code",
   "execution_count": null,
   "metadata": {},
   "outputs": [],
   "source": [
    "print(morphology.diamond(4, np.float16))\n",
    "print('\\n')"
   ]
  },
  {
   "cell_type": "code",
   "execution_count": null,
   "metadata": {},
   "outputs": [],
   "source": [
    "print(morphology.disk(4, np.float16))\n",
    "print('\\n')"
   ]
  },
  {
   "cell_type": "code",
   "execution_count": null,
   "metadata": {},
   "outputs": [],
   "source": [
    "print(morphology.cube(4, np.float16))\n",
    "print('\\n')"
   ]
  },
  {
   "cell_type": "code",
   "execution_count": null,
   "metadata": {},
   "outputs": [],
   "source": [
    "print(morphology.octahedron(4, np.float16))\n",
    "print('\\n')"
   ]
  },
  {
   "cell_type": "code",
   "execution_count": null,
   "metadata": {},
   "outputs": [],
   "source": [
    "print(morphology.ball(3, np.float16))\n",
    "print('\\n')"
   ]
  },
  {
   "cell_type": "code",
   "execution_count": null,
   "metadata": {},
   "outputs": [],
   "source": [
    "print(morphology.octagon(3, 4, np.float16))\n",
    "print('\\n')\n"
   ]
  },
  {
   "cell_type": "code",
   "execution_count": null,
   "metadata": {},
   "outputs": [],
   "source": [
    "print(morphology.star(4, np.float16))\n",
    "print('\\n')"
   ]
  },
  {
   "cell_type": "code",
   "execution_count": null,
   "metadata": {},
   "outputs": [],
   "source": [
    "#Better to implement Morphological operations on Binary Images\n",
    "from skimage import data\n",
    "import matplotlib.pyplot as plt\n",
    "\n",
    "image = out1 = out2 = out3 = out4 = data.horse()\n",
    "\n",
    "#All operations repeated 20 times\n",
    "for i in range(20):\n",
    "    out1 = morphology.binary_erosion(out1)\n",
    "    out2 = morphology.binary_dilation(out2)\n",
    "    out3 = morphology.binary_opening(out3)\n",
    "    out4 = morphology.binary_closing(out4)\n",
    "\n",
    "plt.imshow(image, cmap='gray')\n",
    "plt.show()\n",
    "    "
   ]
  },
  {
   "cell_type": "code",
   "execution_count": null,
   "metadata": {},
   "outputs": [],
   "source": [
    "plt.imshow(out1, cmap='gray')\n",
    "plt.show()\n",
    "#Boundary of the white area gets eroded"
   ]
  },
  {
   "cell_type": "code",
   "execution_count": null,
   "metadata": {},
   "outputs": [],
   "source": [
    "plt.imshow(out2, cmap='gray')\n",
    "plt.show()\n",
    "#Boundary of white area increases\n",
    "#Dilation exact opposite operation of erosion"
   ]
  },
  {
   "cell_type": "code",
   "execution_count": null,
   "metadata": {
    "scrolled": false
   },
   "outputs": [],
   "source": [
    "plt.imshow(out3, cmap='gray')\n",
    "plt.show()\n",
    "#Opening Dilation of Erosion\n",
    "#We get the same image"
   ]
  },
  {
   "cell_type": "code",
   "execution_count": null,
   "metadata": {
    "scrolled": true
   },
   "outputs": [],
   "source": [
    "plt.imshow(out4, cmap='gray')\n",
    "plt.show()\n",
    "#Closing is Erosion of Dilation"
   ]
  },
  {
   "cell_type": "code",
   "execution_count": null,
   "metadata": {},
   "outputs": [],
   "source": [
    "#Generalized Morphological Operations on grayscale image\n",
    "image = out1 = out2 = out3 = out4 = data.camera()\n",
    "\n",
    "for i in range(20):\n",
    "    out1 = morphology.erosion(out1)\n",
    "    out2 = morphology.dilation(out2)\n",
    "    out3 = morphology.opening(out3)\n",
    "    out4 = morphology.closing(out4)\n",
    "\n",
    "plt.imshow(image, cmap='gray')\n",
    "plt.show()"
   ]
  },
  {
   "cell_type": "code",
   "execution_count": null,
   "metadata": {},
   "outputs": [],
   "source": [
    "#Erosion\n",
    "plt.imshow(out1, cmap='gray')\n",
    "plt.show()\n",
    "#Erosion of Background takes place"
   ]
  },
  {
   "cell_type": "code",
   "execution_count": null,
   "metadata": {},
   "outputs": [],
   "source": [
    "#Dilation\n",
    "plt.imshow(out2, cmap='gray')\n",
    "plt.show()"
   ]
  },
  {
   "cell_type": "code",
   "execution_count": null,
   "metadata": {},
   "outputs": [],
   "source": [
    "plt.imshow(out3, cmap='gray')\n",
    "plt.show()"
   ]
  },
  {
   "cell_type": "code",
   "execution_count": null,
   "metadata": {},
   "outputs": [],
   "source": [
    "plt.imshow(out4, cmap='gray')\n",
    "plt.show()"
   ]
  },
  {
   "cell_type": "code",
   "execution_count": null,
   "metadata": {},
   "outputs": [],
   "source": [
    "#Morphological Operations on color image\n",
    "image = out1 = out2 = out3 = out4 = data.coffee()\n",
    "\n",
    "for i in range(20):\n",
    "    out1 = morphology.erosion(out1)\n",
    "    out2 = morphology.dilation(out2)\n",
    "    out3 = morphology.opening(out3)\n",
    "    out4 = morphology.closing(out4)\n",
    "\n",
    "plt.imshow(image)\n",
    "plt.show()"
   ]
  },
  {
   "cell_type": "code",
   "execution_count": null,
   "metadata": {},
   "outputs": [],
   "source": [
    "#Erosion\n",
    "plt.imshow(out1)\n",
    "plt.show()"
   ]
  },
  {
   "cell_type": "code",
   "execution_count": null,
   "metadata": {},
   "outputs": [],
   "source": [
    "#Dilation\n",
    "plt.imshow(out2)\n",
    "plt.show()"
   ]
  },
  {
   "cell_type": "code",
   "execution_count": null,
   "metadata": {},
   "outputs": [],
   "source": [
    "plt.imshow(out3)\n",
    "plt.show()"
   ]
  },
  {
   "cell_type": "code",
   "execution_count": null,
   "metadata": {},
   "outputs": [],
   "source": [
    "plt.imshow(out4)\n",
    "plt.show()"
   ]
  }
 ],
 "metadata": {
  "kernelspec": {
   "display_name": "Python 3",
   "language": "python",
   "name": "python3"
  },
  "language_info": {
   "codemirror_mode": {
    "name": "ipython",
    "version": 3
   },
   "file_extension": ".py",
   "mimetype": "text/x-python",
   "name": "python",
   "nbconvert_exporter": "python",
   "pygments_lexer": "ipython3",
   "version": "3.7.1rc2"
  }
 },
 "nbformat": 4,
 "nbformat_minor": 2
}
