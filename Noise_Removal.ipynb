{
 "cells": [
  {
   "cell_type": "code",
   "execution_count": null,
   "metadata": {},
   "outputs": [],
   "source": [
    "%matplotlib inline\n",
    "import numpy as np\n",
    "import matplotlib.pyplot as plt\n",
    "\n",
    "from skimage.restoration import (denoise_tv_chambolle, denoise_bilateral, denoise_nl_means, denoise_tv_bregman)\n",
    "from skimage import data, img_as_float\n",
    "from skimage.util import random_noise"
   ]
  },
  {
   "cell_type": "code",
   "execution_count": null,
   "metadata": {},
   "outputs": [],
   "source": [
    "original = img_as_float(data.astronaut()[0:100, 0:100])\n",
    "#some part of image being used====Top Left\n",
    "plt.imshow(original)\n",
    "plt.show()"
   ]
  },
  {
   "cell_type": "code",
   "execution_count": null,
   "metadata": {},
   "outputs": [],
   "source": [
    "#Introducing random noise in the above image\n",
    "sigma = 0.155\n",
    "noisy = random_noise(original, var=sigma**2)\n",
    "\n",
    "plt.imshow(noisy)\n",
    "plt.show()"
   ]
  },
  {
   "cell_type": "code",
   "execution_count": null,
   "metadata": {},
   "outputs": [],
   "source": [
    "output1 = denoise_tv_chambolle(noisy, weight=0.1, multichannel=True)\n",
    "plt.imshow(output1)\n",
    "plt.show()"
   ]
  },
  {
   "cell_type": "code",
   "execution_count": null,
   "metadata": {},
   "outputs": [],
   "source": [
    "#Takes longer to execute\n",
    "output2 = denoise_bilateral(noisy, sigma_color=0.05, sigma_spatial=15, multichannel=True)\n",
    "plt.imshow(output2)\n",
    "plt.show()"
   ]
  },
  {
   "cell_type": "code",
   "execution_count": null,
   "metadata": {},
   "outputs": [],
   "source": [
    "output3 = denoise_nl_means(noisy, multichannel=True)\n",
    "plt.imshow(output3)\n",
    "plt.show()"
   ]
  },
  {
   "cell_type": "code",
   "execution_count": null,
   "metadata": {},
   "outputs": [],
   "source": [
    "output4 = denoise_tv_bregman(noisy, weight=2)\n",
    "plt.imshow(output4)\n",
    "plt.show()"
   ]
  }
 ],
 "metadata": {
  "kernelspec": {
   "display_name": "Python 3",
   "language": "python",
   "name": "python3"
  },
  "language_info": {
   "codemirror_mode": {
    "name": "ipython",
    "version": 3
   },
   "file_extension": ".py",
   "mimetype": "text/x-python",
   "name": "python",
   "nbconvert_exporter": "python",
   "pygments_lexer": "ipython3",
   "version": "3.7.1rc2"
  }
 },
 "nbformat": 4,
 "nbformat_minor": 2
}
