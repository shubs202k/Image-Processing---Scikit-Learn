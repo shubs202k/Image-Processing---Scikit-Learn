{
 "cells": [
  {
   "cell_type": "code",
   "execution_count": 1,
   "metadata": {},
   "outputs": [],
   "source": [
    "import numpy as np"
   ]
  },
  {
   "cell_type": "code",
   "execution_count": 2,
   "metadata": {},
   "outputs": [
    {
     "name": "stdout",
     "output_type": "stream",
     "text": [
      "[1 7 5 0 0 2 0 7 2 7]\n"
     ]
    }
   ],
   "source": [
    "#Will generate array of size 10 with lower bound 0 and upper bound 9\n",
    "x = np.random.randint(low=0,high=9,size=10)\n",
    "print(x)"
   ]
  },
  {
   "cell_type": "code",
   "execution_count": 3,
   "metadata": {},
   "outputs": [
    {
     "name": "stdout",
     "output_type": "stream",
     "text": [
      "[8 6 3 6 3 2 3 5 4 4]\n"
     ]
    }
   ],
   "source": [
    "x = np.random.randint(low=0,high=9,size=10)\n",
    "print(x)"
   ]
  },
  {
   "cell_type": "code",
   "execution_count": 4,
   "metadata": {},
   "outputs": [
    {
     "name": "stdout",
     "output_type": "stream",
     "text": [
      "[7 0 0 6 3 2 4 3 7 3]\n"
     ]
    }
   ],
   "source": [
    "x = np.random.randint(low=0,high=9,size=10)\n",
    "print(x)"
   ]
  },
  {
   "cell_type": "code",
   "execution_count": 5,
   "metadata": {},
   "outputs": [
    {
     "name": "stdout",
     "output_type": "stream",
     "text": [
      "[[0.49941984 0.24123977 0.19789707]\n",
      " [0.45693266 0.15545838 0.43136696]\n",
      " [0.38094573 0.17114829 0.58897776]]\n"
     ]
    }
   ],
   "source": [
    "#to generate matrix of size with random values\n",
    "x=np.random.rand(3,3)\n",
    "print(x)"
   ]
  },
  {
   "cell_type": "code",
   "execution_count": 6,
   "metadata": {},
   "outputs": [
    {
     "name": "stdout",
     "output_type": "stream",
     "text": [
      "[[[0.82031112 0.32195649 0.61800452]\n",
      "  [0.66889296 0.49444964 0.28673149]\n",
      "  [0.66677739 0.61711196 0.45992198]]\n",
      "\n",
      " [[0.17318432 0.86778268 0.9134226 ]\n",
      "  [0.52873928 0.816186   0.13559207]\n",
      "  [0.91694381 0.60229061 0.98954533]]\n",
      "\n",
      " [[0.16944089 0.64283658 0.74138673]\n",
      "  [0.34189448 0.05598556 0.75858741]\n",
      "  [0.26235961 0.35249911 0.20256174]]]\n"
     ]
    }
   ],
   "source": [
    "x=np.random.rand(3,3,3)\n",
    "print(x)"
   ]
  },
  {
   "cell_type": "code",
   "execution_count": null,
   "metadata": {},
   "outputs": [],
   "source": []
  }
 ],
 "metadata": {
  "kernelspec": {
   "display_name": "Python 3",
   "language": "python",
   "name": "python3"
  },
  "language_info": {
   "codemirror_mode": {
    "name": "ipython",
    "version": 3
   },
   "file_extension": ".py",
   "mimetype": "text/x-python",
   "name": "python",
   "nbconvert_exporter": "python",
   "pygments_lexer": "ipython3",
   "version": "3.7.1rc2"
  }
 },
 "nbformat": 4,
 "nbformat_minor": 2
}
