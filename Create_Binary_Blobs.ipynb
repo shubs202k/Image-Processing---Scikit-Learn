{
 "cells": [
  {
   "cell_type": "code",
   "execution_count": null,
   "metadata": {},
   "outputs": [],
   "source": [
    "%matplotlib inline\n",
    "import matplotlib.pyplot as plt\n",
    "import skimage.io as io\n",
    "img = io.imread('4.2.05.tiff')\n",
    "print(type(img))\n",
    "io.imshow(img)\n",
    "plt.axis('off')\n",
    "io.show()"
   ]
  },
  {
   "cell_type": "code",
   "execution_count": null,
   "metadata": {},
   "outputs": [],
   "source": [
    "#exploring skimage.io further===data module which has inbuilt images\n",
    "import skimage.data as data\n",
    "img = data.astronaut()\n",
    "io.imshow(img)\n",
    "plt.axis('off')\n",
    "io.show()"
   ]
  },
  {
   "cell_type": "code",
   "execution_count": null,
   "metadata": {},
   "outputs": [],
   "source": [
    "#create random binary blobs\n",
    "img = data.binary_blobs(length =512,blob_size_fraction =0.9,seed=5)\n",
    "io.imshow(img)\n",
    "plt.axis('off')\n",
    "io.show()"
   ]
  },
  {
   "cell_type": "code",
   "execution_count": null,
   "metadata": {},
   "outputs": [],
   "source": [
    "img = data.coffee()\n",
    "plt.imshow(img)\n",
    "plt.axis('off')\n",
    "plt.title('Coffee')\n",
    "plt.show()"
   ]
  },
  {
   "cell_type": "code",
   "execution_count": null,
   "metadata": {},
   "outputs": [],
   "source": [
    "img1=data.coffee()\n",
    "img2=data.rocket()\n",
    "img3=data.horse()\n",
    "img4=data.astronaut()\n",
    "\n",
    "titles = ['Coffee','Rocket','Horse','Astronaut']\n",
    "\n",
    "images = [img1,img2,img3,img4]\n",
    "\n",
    "#Horse is an binary image so we have to use cmap\n",
    "\n",
    "for i in range(4):\n",
    "    plt.subplot(2,2,i+1)\n",
    "    if i==2:\n",
    "        plt.imshow(images[i],cmap='gray')\n",
    "    else:\n",
    "        plt.imshow(images[i])\n",
    "    plt.axis('off')\n",
    "    plt.title(titles[i])\n",
    "plt.show()        "
   ]
  },
  {
   "cell_type": "code",
   "execution_count": null,
   "metadata": {},
   "outputs": [],
   "source": []
  }
 ],
 "metadata": {
  "kernelspec": {
   "display_name": "Python 3",
   "language": "python",
   "name": "python3"
  },
  "language_info": {
   "codemirror_mode": {
    "name": "ipython",
    "version": 3
   },
   "file_extension": ".py",
   "mimetype": "text/x-python",
   "name": "python",
   "nbconvert_exporter": "python",
   "pygments_lexer": "ipython3",
   "version": "3.7.1rc2"
  }
 },
 "nbformat": 4,
 "nbformat_minor": 2
}
