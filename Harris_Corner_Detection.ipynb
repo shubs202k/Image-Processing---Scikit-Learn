{
 "cells": [
  {
   "cell_type": "code",
   "execution_count": null,
   "metadata": {},
   "outputs": [],
   "source": [
    "%matplotlib inline\n",
    "from matplotlib import pyplot as plt\n",
    "from skimage import data\n",
    "from skimage.feature import corner_harris, corner_subpix, corner_peaks\n",
    "from skimage.transform import warp, AffineTransform\n",
    "from skimage.draw import ellipse"
   ]
  },
  {
   "cell_type": "code",
   "execution_count": null,
   "metadata": {},
   "outputs": [],
   "source": [
    "tform = AffineTransform(scale=(1.3, 1.1), rotation=1, shear=0.7,\n",
    "                        translation=(210, 50))\n",
    "image = warp(data.checkerboard(), tform.inverse, output_shape=(350, 350))\n",
    "#Defining an Ellipse --- completely white\n",
    "rr, cc = ellipse(310, 175, 10, 100)\n",
    "image[rr, cc] = 1\n",
    "#Defining two rectangles\n",
    "image[180:230, 10:60] = 1\n",
    "image[230:280, 60:110] = 1"
   ]
  },
  {
   "cell_type": "code",
   "execution_count": null,
   "metadata": {},
   "outputs": [],
   "source": [
    "coords = corner_peaks(corner_harris(image), min_distance=5)\n",
    "#Returns a list of detected corners\n",
    "print(coords)\n",
    "#coords_subpix returns a floating point values===exact coordinates of corners\n",
    "#corners more accurate\n",
    "coords_subpix = corner_subpix(image, coords, window_size=13)\n",
    "print(coords_subpix)"
   ]
  },
  {
   "cell_type": "code",
   "execution_count": null,
   "metadata": {},
   "outputs": [],
   "source": [
    "plt.imshow(image, interpolation='nearest', cmap='gray')\n",
    "#plt.plot(coords_subpix[:, 1], coords_subpix[:, 0], '+r', markersize=15)\n",
    "plt.plot(coords[:, 1], coords[:, 0], '+r', markersize=10)\n",
    "plt.axis((0, 350, 350, 0))\n",
    "plt.show()"
   ]
  }
 ],
 "metadata": {
  "kernelspec": {
   "display_name": "Python 3",
   "language": "python",
   "name": "python3"
  },
  "language_info": {
   "codemirror_mode": {
    "name": "ipython",
    "version": 3
   },
   "file_extension": ".py",
   "mimetype": "text/x-python",
   "name": "python",
   "nbconvert_exporter": "python",
   "pygments_lexer": "ipython3",
   "version": "3.7.1rc2"
  }
 },
 "nbformat": 4,
 "nbformat_minor": 2
}
