{
 "cells": [
  {
   "cell_type": "markdown",
   "metadata": {},
   "source": [
    "#Array Manipulation Routines"
   ]
  },
  {
   "cell_type": "code",
   "execution_count": 2,
   "metadata": {},
   "outputs": [
    {
     "name": "stdout",
     "output_type": "stream",
     "text": [
      "[0 1 2 3 4 5]\n"
     ]
    }
   ],
   "source": [
    "import numpy as np\n",
    "x = np.arange(6)\n",
    "print(x)"
   ]
  },
  {
   "cell_type": "code",
   "execution_count": 3,
   "metadata": {},
   "outputs": [
    {
     "name": "stdout",
     "output_type": "stream",
     "text": [
      "[[0 1]\n",
      " [2 3]\n",
      " [4 5]]\n"
     ]
    }
   ],
   "source": [
    "y=x.reshape((3,2))\n",
    "print(y)"
   ]
  },
  {
   "cell_type": "code",
   "execution_count": 4,
   "metadata": {},
   "outputs": [
    {
     "name": "stdout",
     "output_type": "stream",
     "text": [
      "[[0 1 2]\n",
      " [3 4 5]]\n"
     ]
    }
   ],
   "source": [
    "#Create a 2d array\n",
    "x=np.array([[0,1,2],[3,4,5]],dtype=np.uint8)\n",
    "print(x)"
   ]
  },
  {
   "cell_type": "code",
   "execution_count": 5,
   "metadata": {},
   "outputs": [
    {
     "name": "stdout",
     "output_type": "stream",
     "text": [
      "[0 1 2 3 4 5]\n"
     ]
    }
   ],
   "source": [
    "y = np.reshape(x,6)\n",
    "print(y)"
   ]
  },
  {
   "cell_type": "code",
   "execution_count": 6,
   "metadata": {},
   "outputs": [
    {
     "name": "stdout",
     "output_type": "stream",
     "text": [
      "[0 1 2 3 4 5]\n"
     ]
    }
   ],
   "source": [
    "#another method to reshape\n",
    "y = np.ravel(x)\n",
    "print(y)"
   ]
  },
  {
   "cell_type": "code",
   "execution_count": 7,
   "metadata": {},
   "outputs": [
    {
     "name": "stdout",
     "output_type": "stream",
     "text": [
      "[[0 1 2]\n",
      " [3 4 5]]\n"
     ]
    }
   ],
   "source": [
    "print(x)"
   ]
  },
  {
   "cell_type": "code",
   "execution_count": 10,
   "metadata": {},
   "outputs": [
    {
     "name": "stdout",
     "output_type": "stream",
     "text": [
      "[0 1 2 3 4 5]\n"
     ]
    }
   ],
   "source": [
    "#another way\n",
    "y=x.flatten()\n",
    "print(y)"
   ]
  },
  {
   "cell_type": "code",
   "execution_count": 11,
   "metadata": {},
   "outputs": [
    {
     "name": "stdout",
     "output_type": "stream",
     "text": [
      "[0 3 1 4 2 5]\n"
     ]
    }
   ],
   "source": [
    "#column wise flattening\n",
    "y=x.flatten('F')\n",
    "print(y)"
   ]
  },
  {
   "cell_type": "code",
   "execution_count": 12,
   "metadata": {},
   "outputs": [
    {
     "name": "stdout",
     "output_type": "stream",
     "text": [
      "[0 1 2 3 4 5]\n"
     ]
    }
   ],
   "source": [
    "#row wise flattening\n",
    "y=x.flatten('C')\n",
    "print(y)"
   ]
  },
  {
   "cell_type": "code",
   "execution_count": null,
   "metadata": {},
   "outputs": [],
   "source": []
  },
  {
   "cell_type": "code",
   "execution_count": null,
   "metadata": {},
   "outputs": [],
   "source": []
  },
  {
   "cell_type": "code",
   "execution_count": 14,
   "metadata": {},
   "outputs": [
    {
     "name": "stdout",
     "output_type": "stream",
     "text": [
      "uint8\n",
      "[1 2 3]\n",
      "[4 5 6]\n"
     ]
    }
   ],
   "source": [
    "x = np.array([1,2,3],dtype=np.uint8)\n",
    "y = np.array([4,5,6],dtype=np.uint8)\n",
    "print(x.dtype)\n",
    "print(x)\n",
    "print(y)"
   ]
  },
  {
   "cell_type": "code",
   "execution_count": 15,
   "metadata": {},
   "outputs": [
    {
     "name": "stdout",
     "output_type": "stream",
     "text": [
      "[[1 2 3]\n",
      " [4 5 6]]\n"
     ]
    }
   ],
   "source": [
    "#To join 2 arrays\n",
    "z=np.stack((x,y))\n",
    "print(z)"
   ]
  },
  {
   "cell_type": "code",
   "execution_count": 16,
   "metadata": {},
   "outputs": [
    {
     "name": "stdout",
     "output_type": "stream",
     "text": [
      "[[1 2 3]\n",
      " [4 5 6]]\n"
     ]
    }
   ],
   "source": [
    "#To join 2 arrays\n",
    "z=np.stack((x,y),axis=0)\n",
    "print(z)"
   ]
  },
  {
   "cell_type": "code",
   "execution_count": 17,
   "metadata": {},
   "outputs": [
    {
     "name": "stdout",
     "output_type": "stream",
     "text": [
      "[[1 4]\n",
      " [2 5]\n",
      " [3 6]]\n"
     ]
    }
   ],
   "source": [
    "#To join 2 arrays\n",
    "z=np.stack((x,y),axis=-1)\n",
    "print(z)"
   ]
  },
  {
   "cell_type": "code",
   "execution_count": 18,
   "metadata": {},
   "outputs": [
    {
     "name": "stdout",
     "output_type": "stream",
     "text": [
      "[1 2 3]\n",
      "[4 5 6]\n"
     ]
    }
   ],
   "source": [
    "print(x)\n",
    "print(y)"
   ]
  },
  {
   "cell_type": "code",
   "execution_count": 19,
   "metadata": {},
   "outputs": [
    {
     "name": "stdout",
     "output_type": "stream",
     "text": [
      "[[[1 4]\n",
      "  [2 5]\n",
      "  [3 6]]]\n"
     ]
    }
   ],
   "source": [
    "#other stack operations\n",
    "z=np.dstack((x,y))\n",
    "print(z)"
   ]
  },
  {
   "cell_type": "code",
   "execution_count": 20,
   "metadata": {},
   "outputs": [
    {
     "name": "stdout",
     "output_type": "stream",
     "text": [
      "[1 2 3 4 5 6]\n"
     ]
    }
   ],
   "source": [
    "#other stack operations\n",
    "z=np.hstack((x,y))\n",
    "print(z)"
   ]
  },
  {
   "cell_type": "code",
   "execution_count": 21,
   "metadata": {},
   "outputs": [
    {
     "name": "stdout",
     "output_type": "stream",
     "text": [
      "[[1 2 3]\n",
      " [4 5 6]]\n"
     ]
    }
   ],
   "source": [
    "#other stack operations\n",
    "z=np.vstack((x,y))\n",
    "print(z)"
   ]
  },
  {
   "cell_type": "code",
   "execution_count": 22,
   "metadata": {},
   "outputs": [
    {
     "name": "stdout",
     "output_type": "stream",
     "text": [
      "[0 1 2 3 4 5 6 7 8]\n"
     ]
    }
   ],
   "source": [
    "x = np.arange(9)\n",
    "print(x)"
   ]
  },
  {
   "cell_type": "code",
   "execution_count": 23,
   "metadata": {},
   "outputs": [
    {
     "name": "stdout",
     "output_type": "stream",
     "text": [
      "[0 1 2] [3 4 5] [6 7 8]\n"
     ]
    }
   ],
   "source": [
    "#to split x into 3 different arrays\n",
    "a,b,c = np.split(x,3)\n",
    "print(a,b,c)"
   ]
  },
  {
   "cell_type": "code",
   "execution_count": 24,
   "metadata": {},
   "outputs": [
    {
     "name": "stdout",
     "output_type": "stream",
     "text": [
      "[[[6.85883145e-01 6.36820497e-01 8.15953581e-01 4.11967380e-01]\n",
      "  [6.51294588e-01 6.80847624e-01 9.36497961e-01 8.67239491e-01]\n",
      "  [8.56371002e-01 9.14120794e-01 1.57485319e-01 6.01672199e-01]\n",
      "  [7.22880235e-01 4.73981913e-01 1.07165080e-01 7.00859868e-01]]\n",
      "\n",
      " [[8.13460786e-01 1.93107208e-01 4.93436189e-01 4.66505706e-01]\n",
      "  [8.72347280e-01 3.14413891e-01 8.75017486e-01 6.80652100e-02]\n",
      "  [4.86933566e-04 1.28928206e-01 4.28343093e-01 4.68709323e-01]\n",
      "  [1.85600986e-01 5.27861679e-01 6.26356691e-01 6.33563165e-01]]\n",
      "\n",
      " [[6.30180590e-01 5.76344991e-02 9.47417945e-01 6.81906011e-01]\n",
      "  [1.87279569e-01 8.54759033e-02 2.43961149e-01 2.92049469e-01]\n",
      "  [2.53844795e-01 3.19978343e-01 4.06874605e-01 9.36952941e-01]\n",
      "  [1.39622065e-01 7.69163758e-01 1.85985508e-01 2.71813553e-01]]\n",
      "\n",
      " [[5.37710696e-01 5.26060084e-02 6.93603286e-01 4.92586015e-01]\n",
      "  [4.73673836e-01 4.67686723e-01 7.69410107e-01 4.02592007e-02]\n",
      "  [4.35442319e-01 5.50674520e-01 7.99110723e-02 5.39628922e-02]\n",
      "  [5.84389092e-01 3.38374166e-01 4.68631661e-01 6.69449177e-01]]]\n"
     ]
    }
   ],
   "source": [
    "x=np.random.rand(4,4,4)\n",
    "print(x)"
   ]
  },
  {
   "cell_type": "code",
   "execution_count": 25,
   "metadata": {},
   "outputs": [
    {
     "name": "stdout",
     "output_type": "stream",
     "text": [
      "[[[6.85883145e-01 6.36820497e-01 8.15953581e-01 4.11967380e-01]\n",
      "  [6.51294588e-01 6.80847624e-01 9.36497961e-01 8.67239491e-01]\n",
      "  [8.56371002e-01 9.14120794e-01 1.57485319e-01 6.01672199e-01]\n",
      "  [7.22880235e-01 4.73981913e-01 1.07165080e-01 7.00859868e-01]]\n",
      "\n",
      " [[8.13460786e-01 1.93107208e-01 4.93436189e-01 4.66505706e-01]\n",
      "  [8.72347280e-01 3.14413891e-01 8.75017486e-01 6.80652100e-02]\n",
      "  [4.86933566e-04 1.28928206e-01 4.28343093e-01 4.68709323e-01]\n",
      "  [1.85600986e-01 5.27861679e-01 6.26356691e-01 6.33563165e-01]]] [[[0.63018059 0.0576345  0.94741795 0.68190601]\n",
      "  [0.18727957 0.0854759  0.24396115 0.29204947]\n",
      "  [0.25384479 0.31997834 0.40687461 0.93695294]\n",
      "  [0.13962207 0.76916376 0.18598551 0.27181355]]\n",
      "\n",
      " [[0.5377107  0.05260601 0.69360329 0.49258602]\n",
      "  [0.47367384 0.46768672 0.76941011 0.0402592 ]\n",
      "  [0.43544232 0.55067452 0.07991107 0.05396289]\n",
      "  [0.58438909 0.33837417 0.46863166 0.66944918]]]\n"
     ]
    }
   ],
   "source": [
    "y,z = np.split(x,2)\n",
    "print(y,z)"
   ]
  },
  {
   "cell_type": "code",
   "execution_count": 26,
   "metadata": {},
   "outputs": [
    {
     "name": "stdout",
     "output_type": "stream",
     "text": [
      "[[[6.85883145e-01 6.36820497e-01]\n",
      "  [6.51294588e-01 6.80847624e-01]\n",
      "  [8.56371002e-01 9.14120794e-01]\n",
      "  [7.22880235e-01 4.73981913e-01]]\n",
      "\n",
      " [[8.13460786e-01 1.93107208e-01]\n",
      "  [8.72347280e-01 3.14413891e-01]\n",
      "  [4.86933566e-04 1.28928206e-01]\n",
      "  [1.85600986e-01 5.27861679e-01]]\n",
      "\n",
      " [[6.30180590e-01 5.76344991e-02]\n",
      "  [1.87279569e-01 8.54759033e-02]\n",
      "  [2.53844795e-01 3.19978343e-01]\n",
      "  [1.39622065e-01 7.69163758e-01]]\n",
      "\n",
      " [[5.37710696e-01 5.26060084e-02]\n",
      "  [4.73673836e-01 4.67686723e-01]\n",
      "  [4.35442319e-01 5.50674520e-01]\n",
      "  [5.84389092e-01 3.38374166e-01]]] [[[0.81595358 0.41196738]\n",
      "  [0.93649796 0.86723949]\n",
      "  [0.15748532 0.6016722 ]\n",
      "  [0.10716508 0.70085987]]\n",
      "\n",
      " [[0.49343619 0.46650571]\n",
      "  [0.87501749 0.06806521]\n",
      "  [0.42834309 0.46870932]\n",
      "  [0.62635669 0.63356316]]\n",
      "\n",
      " [[0.94741795 0.68190601]\n",
      "  [0.24396115 0.29204947]\n",
      "  [0.40687461 0.93695294]\n",
      "  [0.18598551 0.27181355]]\n",
      "\n",
      " [[0.69360329 0.49258602]\n",
      "  [0.76941011 0.0402592 ]\n",
      "  [0.07991107 0.05396289]\n",
      "  [0.46863166 0.66944918]]]\n"
     ]
    }
   ],
   "source": [
    "y,z = np.dsplit(x,2)\n",
    "print(y,z)"
   ]
  },
  {
   "cell_type": "code",
   "execution_count": 27,
   "metadata": {},
   "outputs": [
    {
     "name": "stdout",
     "output_type": "stream",
     "text": [
      "[[[0.68588314 0.6368205  0.81595358 0.41196738]\n",
      "  [0.65129459 0.68084762 0.93649796 0.86723949]]\n",
      "\n",
      " [[0.81346079 0.19310721 0.49343619 0.46650571]\n",
      "  [0.87234728 0.31441389 0.87501749 0.06806521]]\n",
      "\n",
      " [[0.63018059 0.0576345  0.94741795 0.68190601]\n",
      "  [0.18727957 0.0854759  0.24396115 0.29204947]]\n",
      "\n",
      " [[0.5377107  0.05260601 0.69360329 0.49258602]\n",
      "  [0.47367384 0.46768672 0.76941011 0.0402592 ]]] [[[8.56371002e-01 9.14120794e-01 1.57485319e-01 6.01672199e-01]\n",
      "  [7.22880235e-01 4.73981913e-01 1.07165080e-01 7.00859868e-01]]\n",
      "\n",
      " [[4.86933566e-04 1.28928206e-01 4.28343093e-01 4.68709323e-01]\n",
      "  [1.85600986e-01 5.27861679e-01 6.26356691e-01 6.33563165e-01]]\n",
      "\n",
      " [[2.53844795e-01 3.19978343e-01 4.06874605e-01 9.36952941e-01]\n",
      "  [1.39622065e-01 7.69163758e-01 1.85985508e-01 2.71813553e-01]]\n",
      "\n",
      " [[4.35442319e-01 5.50674520e-01 7.99110723e-02 5.39628922e-02]\n",
      "  [5.84389092e-01 3.38374166e-01 4.68631661e-01 6.69449177e-01]]]\n"
     ]
    }
   ],
   "source": [
    "y,z = np.hsplit(x,2)\n",
    "print(y,z)"
   ]
  },
  {
   "cell_type": "code",
   "execution_count": 28,
   "metadata": {},
   "outputs": [
    {
     "name": "stdout",
     "output_type": "stream",
     "text": [
      "[[[6.85883145e-01 6.36820497e-01 8.15953581e-01 4.11967380e-01]\n",
      "  [6.51294588e-01 6.80847624e-01 9.36497961e-01 8.67239491e-01]\n",
      "  [8.56371002e-01 9.14120794e-01 1.57485319e-01 6.01672199e-01]\n",
      "  [7.22880235e-01 4.73981913e-01 1.07165080e-01 7.00859868e-01]]\n",
      "\n",
      " [[8.13460786e-01 1.93107208e-01 4.93436189e-01 4.66505706e-01]\n",
      "  [8.72347280e-01 3.14413891e-01 8.75017486e-01 6.80652100e-02]\n",
      "  [4.86933566e-04 1.28928206e-01 4.28343093e-01 4.68709323e-01]\n",
      "  [1.85600986e-01 5.27861679e-01 6.26356691e-01 6.33563165e-01]]] [[[0.63018059 0.0576345  0.94741795 0.68190601]\n",
      "  [0.18727957 0.0854759  0.24396115 0.29204947]\n",
      "  [0.25384479 0.31997834 0.40687461 0.93695294]\n",
      "  [0.13962207 0.76916376 0.18598551 0.27181355]]\n",
      "\n",
      " [[0.5377107  0.05260601 0.69360329 0.49258602]\n",
      "  [0.47367384 0.46768672 0.76941011 0.0402592 ]\n",
      "  [0.43544232 0.55067452 0.07991107 0.05396289]\n",
      "  [0.58438909 0.33837417 0.46863166 0.66944918]]]\n"
     ]
    }
   ],
   "source": [
    "y,z = np.vsplit(x,2)\n",
    "print(y,z)"
   ]
  },
  {
   "cell_type": "code",
   "execution_count": 29,
   "metadata": {},
   "outputs": [
    {
     "name": "stdout",
     "output_type": "stream",
     "text": [
      "[[ 0  1  2  3]\n",
      " [ 4  5  6  7]\n",
      " [ 8  9 10 11]\n",
      " [12 13 14 15]]\n"
     ]
    }
   ],
   "source": [
    "x = np.arange(16).reshape(4,4)\n",
    "print(x)"
   ]
  },
  {
   "cell_type": "code",
   "execution_count": 31,
   "metadata": {},
   "outputs": [
    {
     "name": "stdout",
     "output_type": "stream",
     "text": [
      "[[ 3  2  1  0]\n",
      " [ 7  6  5  4]\n",
      " [11 10  9  8]\n",
      " [15 14 13 12]]\n"
     ]
    }
   ],
   "source": [
    "#to check the flip function\n",
    "y = np.flip(x,axis=-1)\n",
    "print(y)"
   ]
  },
  {
   "cell_type": "code",
   "execution_count": 32,
   "metadata": {},
   "outputs": [
    {
     "name": "stdout",
     "output_type": "stream",
     "text": [
      "[[12 13 14 15]\n",
      " [ 8  9 10 11]\n",
      " [ 4  5  6  7]\n",
      " [ 0  1  2  3]]\n"
     ]
    }
   ],
   "source": [
    "#to check the flip function\n",
    "y = np.flip(x,axis=-0)\n",
    "print(y)"
   ]
  },
  {
   "cell_type": "code",
   "execution_count": 33,
   "metadata": {},
   "outputs": [
    {
     "name": "stdout",
     "output_type": "stream",
     "text": [
      "[[ 3  2  1  0]\n",
      " [ 7  6  5  4]\n",
      " [11 10  9  8]\n",
      " [15 14 13 12]]\n"
     ]
    }
   ],
   "source": [
    "#to check the flip function\n",
    "y = np.flip(x,axis=1)\n",
    "print(y)"
   ]
  },
  {
   "cell_type": "code",
   "execution_count": 34,
   "metadata": {},
   "outputs": [
    {
     "name": "stdout",
     "output_type": "stream",
     "text": [
      "[[ 0  1  2  3]\n",
      " [ 4  5  6  7]\n",
      " [ 8  9 10 11]\n",
      " [12 13 14 15]]\n",
      "[[ 3  2  1  0]\n",
      " [ 7  6  5  4]\n",
      " [11 10  9  8]\n",
      " [15 14 13 12]]\n"
     ]
    }
   ],
   "source": [
    "#another flip function : fliplr flip left to right\n",
    "y = np.fliplr(x)\n",
    "print(x)\n",
    "print(y)"
   ]
  },
  {
   "cell_type": "code",
   "execution_count": 35,
   "metadata": {},
   "outputs": [
    {
     "name": "stdout",
     "output_type": "stream",
     "text": [
      "[[ 0  1  2  3]\n",
      " [ 4  5  6  7]\n",
      " [ 8  9 10 11]\n",
      " [12 13 14 15]]\n",
      "[[12 13 14 15]\n",
      " [ 8  9 10 11]\n",
      " [ 4  5  6  7]\n",
      " [ 0  1  2  3]]\n"
     ]
    }
   ],
   "source": [
    "#another flip function : fliplr flip updown\n",
    "y = np.flipud(x)\n",
    "print(x)\n",
    "print(y)"
   ]
  },
  {
   "cell_type": "code",
   "execution_count": 38,
   "metadata": {},
   "outputs": [
    {
     "name": "stdout",
     "output_type": "stream",
     "text": [
      "[[ 8  9 10 11]\n",
      " [12 13 14 15]\n",
      " [ 0  1  2  3]\n",
      " [ 4  5  6  7]]\n"
     ]
    }
   ],
   "source": [
    "#roll function : below === shift last 8 with first 8=====shift it by 8 and then check as linear array\n",
    "y = np.roll(x,8)\n",
    "print(y)"
   ]
  },
  {
   "cell_type": "code",
   "execution_count": 39,
   "metadata": {},
   "outputs": [
    {
     "name": "stdout",
     "output_type": "stream",
     "text": [
      "[[ 0  1  2  3]\n",
      " [ 4  5  6  7]\n",
      " [ 8  9 10 11]\n",
      " [12 13 14 15]]\n",
      "[[ 3  7 11 15]\n",
      " [ 2  6 10 14]\n",
      " [ 1  5  9 13]\n",
      " [ 0  4  8 12]]\n"
     ]
    }
   ],
   "source": [
    "#rotation\n",
    "y =np.rot90(x)\n",
    "print(x)\n",
    "print(y)"
   ]
  },
  {
   "cell_type": "code",
   "execution_count": null,
   "metadata": {},
   "outputs": [],
   "source": []
  }
 ],
 "metadata": {
  "kernelspec": {
   "display_name": "Python 3",
   "language": "python",
   "name": "python3"
  },
  "language_info": {
   "codemirror_mode": {
    "name": "ipython",
    "version": 3
   },
   "file_extension": ".py",
   "mimetype": "text/x-python",
   "name": "python",
   "nbconvert_exporter": "python",
   "pygments_lexer": "ipython3",
   "version": "3.7.1rc2"
  }
 },
 "nbformat": 4,
 "nbformat_minor": 2
}
