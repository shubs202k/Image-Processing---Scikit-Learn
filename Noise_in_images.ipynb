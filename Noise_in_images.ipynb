{
 "cells": [
  {
   "cell_type": "code",
   "execution_count": null,
   "metadata": {},
   "outputs": [],
   "source": [
    "%matplotlib inline\n",
    "import numpy as np\n",
    "import matplotlib.pyplot as plt\n",
    "import random \n",
    "from skimage import data,img_as_float\n",
    "from skimage.util import random_noise"
   ]
  },
  {
   "cell_type": "code",
   "execution_count": null,
   "metadata": {},
   "outputs": [],
   "source": [
    "original = img_as_float(data.astronaut())\n",
    "plt.imshow(original)\n",
    "plt.axis('off')\n",
    "plt.show()"
   ]
  },
  {
   "cell_type": "code",
   "execution_count": null,
   "metadata": {},
   "outputs": [],
   "source": [
    "#now introduce random noise into the image\n",
    "sigma = 0.55\n",
    "noisy = random_noise(original,var=sigma**2)\n",
    "plt.imshow(noisy)\n",
    "plt.axis('off')\n",
    "plt.show()\n"
   ]
  },
  {
   "cell_type": "code",
   "execution_count": null,
   "metadata": {},
   "outputs": [],
   "source": [
    "#Salt and Pepper noise\n",
    "#pixel completely set to 0 or 255\n",
    "s_a_p_noisy = np.zeros(original.shape,np.float64)\n",
    "#will create a black canvas\n",
    "plt.imshow(s_a_p_noisy)\n",
    "plt.axis('off')\n",
    "plt.show()"
   ]
  },
  {
   "cell_type": "code",
   "execution_count": null,
   "metadata": {},
   "outputs": [],
   "source": [
    "p =0.05\n",
    "for i in range(original.shape[0]):\n",
    "    for j in range(original.shape[1]):\n",
    "        r = random.random() #generate random numbers betwee 0.0 and 1.0\n",
    "        if r < p/2:\n",
    "            s_a_p_noisy[i][j] = 0.0, 0.0, 0.0\n",
    "        elif r < p:\n",
    "            s_a_p_noisy[i][j] = 255.0, 255.0, 255.0\n",
    "        else:\n",
    "            s_a_p_noisy[i][j] = original[i][j]\n",
    "plt.imshow(s_a_p_noisy)\n",
    "plt.axis('off')\n",
    "plt.show()            "
   ]
  },
  {
   "cell_type": "code",
   "execution_count": null,
   "metadata": {},
   "outputs": [],
   "source": [
    "print(original.shape)\n",
    "print(random.random())"
   ]
  }
 ],
 "metadata": {
  "kernelspec": {
   "display_name": "Python 3",
   "language": "python",
   "name": "python3"
  },
  "language_info": {
   "codemirror_mode": {
    "name": "ipython",
    "version": 3
   },
   "file_extension": ".py",
   "mimetype": "text/x-python",
   "name": "python",
   "nbconvert_exporter": "python",
   "pygments_lexer": "ipython3",
   "version": "3.7.1rc2"
  }
 },
 "nbformat": 4,
 "nbformat_minor": 2
}
