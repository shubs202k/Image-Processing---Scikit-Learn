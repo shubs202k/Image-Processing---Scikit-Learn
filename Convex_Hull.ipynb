{
 "cells": [
  {
   "cell_type": "code",
   "execution_count": 2,
   "metadata": {},
   "outputs": [
    {
     "data": {
      "image/png": "[encoded data removed]",
      "text/plain": [
       "<Figure size 432x288 with 2 Axes>"
      ]
     },
     "metadata": {
      "needs_background": "light"
     },
     "output_type": "display_data"
    }
   ],
   "source": [
    "%matplotlib inline\n",
    "import matplotlib.pyplot as plt\n",
    "from skimage.morphology import convex_hull_image\n",
    "from skimage import data, img_as_float\n",
    "from skimage.filters import threshold_otsu\n",
    "import numpy as np\n",
    "\n",
    "image = data.camera()\n",
    "\n",
    "#calculating otsu's threshold\n",
    "thresh = threshold_otsu(image)\n",
    "binary = image > thresh\n",
    "#inverted binary image\n",
    "binaryneg = image < thresh\n",
    "\n",
    "c_hull = convex_hull_image(binaryneg)\n",
    "#c_hull = convex_hull_image(binary)\n",
    "\n",
    "#output = [binaryneg, c_hull]\n",
    "output = [binary, c_hull]\n",
    "titles = ['Original', 'Convex Hull']\n",
    "\n",
    "for i in range(2):\n",
    "    plt.subplot(1, 2, i+1)\n",
    "    plt.imshow(output[i], cmap='gray')\n",
    "    plt.title(titles[i])\n",
    "    plt.axis('off')\n",
    "plt.show()\n",
    "\n",
    "#"
   ]
  },
  {
   "cell_type": "code",
   "execution_count": null,
   "metadata": {},
   "outputs": [],
   "source": []
  }
 ],
 "metadata": {
  "kernelspec": {
   "display_name": "Python 3",
   "language": "python",
   "name": "python3"
  },
  "language_info": {
   "codemirror_mode": {
    "name": "ipython",
    "version": 3
   },
   "file_extension": ".py",
   "mimetype": "text/x-python",
   "name": "python",
   "nbconvert_exporter": "python",
   "pygments_lexer": "ipython3",
   "version": "3.7.1rc2"
  }
 },
 "nbformat": 4,
 "nbformat_minor": 2
}
