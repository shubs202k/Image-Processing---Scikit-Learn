{
 "cells": [
  {
   "cell_type": "code",
   "execution_count": null,
   "metadata": {},
   "outputs": [],
   "source": [
    "%matplotlib inline\n",
    "import numpy as np\n",
    "import matplotlib.pyplot as plt"
   ]
  },
  {
   "cell_type": "code",
   "execution_count": null,
   "metadata": {},
   "outputs": [],
   "source": [
    "img1 = plt.imread('4.1.06_06.png')\n",
    "plt.imshow(img1)\n",
    "plt.axis('off')\n",
    "plt.title('Image 1')\n",
    "plt.show()"
   ]
  },
  {
   "cell_type": "code",
   "execution_count": null,
   "metadata": {},
   "outputs": [],
   "source": [
    "#to save an image on disk\n",
    "plt.imsave('first.png',img1)"
   ]
  },
  {
   "cell_type": "code",
   "execution_count": null,
   "metadata": {},
   "outputs": [],
   "source": [
    "img1 = plt.imread('5.3.01_01.png')\n",
    "#plt.imshow(img1)\n",
    "plt.imshow(img1,cmap='gray')\n",
    "plt.axis('off')\n",
    "plt.title('GrayScale Image')\n",
    "plt.show()"
   ]
  },
  {
   "cell_type": "markdown",
   "metadata": {},
   "source": [
    "#NUMPY FOR IMAGES"
   ]
  },
  {
   "cell_type": "code",
   "execution_count": null,
   "metadata": {},
   "outputs": [],
   "source": [
    "img1 = plt.imread('4.1.06.tiff')\n",
    "img2 = plt.imread('5.3.01.tiff')\n",
    "\n",
    "#Most color images stored in RGB format\n",
    "#image properties\n",
    "\n",
    "print(type(img2))\n",
    "print(img2.shape)\n",
    "print(img2.ndim)\n",
    "print(img2.size)\n",
    "print(img2.dtype)\n",
    "print(img2.nbytes)"
   ]
  },
  {
   "cell_type": "code",
   "execution_count": null,
   "metadata": {},
   "outputs": [],
   "source": [
    "#addressing an specific pixel of a image\n",
    "print(img1[10,10,0])\n",
    "print(img1[10,10,1])\n",
    "print(img1[10,10,2])\n",
    "print(img1[10,10,:])\n",
    "\n",
    "print(img2[10,10])"
   ]
  },
  {
   "cell_type": "markdown",
   "metadata": {},
   "source": [
    "#IMAGE STATISTICS"
   ]
  },
  {
   "cell_type": "code",
   "execution_count": null,
   "metadata": {},
   "outputs": [],
   "source": [
    "img1 = plt.imread('4.1.06.tiff')\n",
    "print(img1.min())\n",
    "print(img1.max())\n",
    "print(img1.mean())\n",
    "\n",
    "print(np.median(img1))\n",
    "print(np.mean(img1))\n",
    "print(np.average(img1))\n",
    "print(np.std(img1))\n",
    "print(np.var(img1))\n"
   ]
  },
  {
   "cell_type": "markdown",
   "metadata": {},
   "source": [
    "IMAGE MASKS"
   ]
  },
  {
   "cell_type": "code",
   "execution_count": null,
   "metadata": {},
   "outputs": [],
   "source": [
    "img1 = plt.imread('4.1.06.tiff')\n",
    "nrows,ncols,channels=img1.shape\n",
    "row,col = np.ogrid[:nrows,:ncols]\n",
    "\n",
    "#calculating center point of image\n",
    "cnt_row,cnt_col = nrows/2,ncols/2\n",
    "\n",
    "#Define a circular mask\n",
    "outer_disk_mask = ((row-cnt_row)**2 + (col-cnt_col)**2 > (nrows/2)**2)\n",
    "#allows us to change the pixel values in image\n",
    "img1.setflags(write=1)\n",
    "#Set points of outer_disk_mask list to black\n",
    "img1[outer_disk_mask] = 0\n",
    "\n",
    "plt.imshow(img1)\n",
    "plt.axis('off')\n",
    "plt.title('Masked Image')\n",
    "plt.show()\n",
    "                                                                        "
   ]
  },
  {
   "cell_type": "markdown",
   "metadata": {},
   "source": [
    "Image Channels"
   ]
  },
  {
   "cell_type": "code",
   "execution_count": null,
   "metadata": {},
   "outputs": [],
   "source": [
    "#How to seperate channels of an image and process them independently\n",
    "#Usually a color image will have 3 channels R G & B and each channel has intensity from 0-256\n",
    "#1-Byte channel /8-bits color channel\n",
    "img1 = plt.imread('4.1.04.tiff')\n",
    "\n",
    "r =img1[:,:,0]\n",
    "g =img1[:,:,1]\n",
    "b =img1[:,:,2]\n",
    "\n",
    "output = [img1,r,g,b]\n",
    "titles = ['Image','Red','Green','Blue']\n",
    "for i in range(4):\n",
    "    plt.subplot(2,2,i+1)\n",
    "    plt.axis('off')\n",
    "    plt.title(titles[i])\n",
    "    if i==0:\n",
    "        plt.imshow(output[i])\n",
    "    else:\n",
    "        plt.imshow(output[i],cmap='gray')\n",
    "#individual channels have intensity from 0-255 and should be gray scale\n",
    "\n",
    "plt.show()\n",
    "\n",
    "#1 pixel can represent 256*256*256 possible colors    "
   ]
  },
  {
   "cell_type": "code",
   "execution_count": null,
   "metadata": {},
   "outputs": [],
   "source": [
    "#now to combine these color channels to get original image\n",
    "\n",
    "img1 = plt.imread('4.1.04.tiff')\n",
    "\n",
    "r =img1[:,:,0]\n",
    "g =img1[:,:,1]\n",
    "b =img1[:,:,2]\n",
    "\n",
    "output = np.dstack((r,g,b))\n",
    "plt.imshow(output)\n",
    "plt.axis('off')\n",
    "plt.show()\n"
   ]
  },
  {
   "cell_type": "markdown",
   "metadata": {},
   "source": [
    "ARITHMATIC OPERATIONS"
   ]
  },
  {
   "cell_type": "code",
   "execution_count": null,
   "metadata": {},
   "outputs": [],
   "source": [
    "img1 = plt.imread('4.1.04.tiff')\n",
    "img2 = plt.imread('4.1.06.tiff')\n",
    "\n",
    "plt.imshow(img1)\n",
    "plt.show()\n",
    "plt.imshow(img2)\n",
    "plt.show()\n",
    "\n",
    "plt.imshow(img1 + img2)\n",
    "plt.show()"
   ]
  },
  {
   "cell_type": "code",
   "execution_count": null,
   "metadata": {},
   "outputs": [],
   "source": [
    "plt.imshow(np.flip(img2,0))\n",
    "plt.axis('off')\n",
    "plt.show()"
   ]
  },
  {
   "cell_type": "code",
   "execution_count": null,
   "metadata": {},
   "outputs": [],
   "source": [
    "plt.imshow(np.roll(img2,2048))\n",
    "plt.show()"
   ]
  },
  {
   "cell_type": "code",
   "execution_count": null,
   "metadata": {},
   "outputs": [],
   "source": [
    "plt.imshow(np.fliplr(img2))\n",
    "plt.show()"
   ]
  },
  {
   "cell_type": "code",
   "execution_count": null,
   "metadata": {},
   "outputs": [],
   "source": [
    "plt.imshow(np.flipud(img2))\n",
    "plt.axis('off')\n",
    "plt.show()"
   ]
  },
  {
   "cell_type": "code",
   "execution_count": null,
   "metadata": {},
   "outputs": [],
   "source": [
    "plt.imshow(np.rot90(img2))\n",
    "plt.show()"
   ]
  },
  {
   "cell_type": "markdown",
   "metadata": {},
   "source": [
    "Image Histograms with Numpy and Matplotlib"
   ]
  },
  {
   "cell_type": "code",
   "execution_count": 51,
   "metadata": {},
   "outputs": [
    {
     "data": {
      "image/png": "[encoded data removed]",
      "text/plain": [
       "<Figure size 432x288 with 4 Axes>"
      ]
     },
     "metadata": {
      "needs_background": "light"
     },
     "output_type": "display_data"
    }
   ],
   "source": [
    "img1 = plt.imread('4.1.01.tiff')\n",
    "\n",
    "#Seperate Color channels first\n",
    "r=img1[:,:,0]\n",
    "g=img1[:,:,1]\n",
    "b=img1[:,:,2]\n",
    "\n",
    "#adjust the subplots\n",
    "plt.subplots_adjust(hspace=0.5,wspace=0.5)\n",
    "plt.subplot(2,2,1)\n",
    "plt.title('Original Image')\n",
    "plt.axis('off')\n",
    "plt.imshow(img1)\n",
    "\n",
    "#Now to actually calculate the histogram\n",
    "#we first need to flatten out the channel matrix\n",
    "hist,bins = np.histogram(r.ravel(),bins = 256,range =(0,256))\n",
    "plt.subplot(2,2,2)\n",
    "plt.title('Red Histogram')\n",
    "plt.bar(bins[:-1],hist)\n",
    "\n",
    "hist,bins = np.histogram(g.ravel(),bins = 256,range =(0,256))\n",
    "plt.subplot(2,2,3)\n",
    "plt.title('Green Histogram')\n",
    "plt.bar(bins[:-1],hist)\n",
    "\n",
    "hist,bins = np.histogram(b.ravel(),bins = 256,range =(0,256))\n",
    "plt.subplot(2,2,4)\n",
    "plt.title('Blue Histogram')\n",
    "plt.bar(bins[:-1],hist)\n",
    "\n",
    "plt.show()"
   ]
  },
  {
   "cell_type": "code",
   "execution_count": 57,
   "metadata": {},
   "outputs": [
    {
     "data": {
      "image/png": "[encoded data removed]",
      "text/plain": [
       "<Figure size 432x288 with 4 Axes>"
      ]
     },
     "metadata": {
      "needs_background": "light"
     },
     "output_type": "display_data"
    }
   ],
   "source": [
    "#Histogram using Matplotlib\n",
    "\n",
    "img1 = plt.imread('4.1.01.tiff')\n",
    "\n",
    "#Seperate Color channels first\n",
    "r=img1[:,:,0]\n",
    "g=img1[:,:,1]\n",
    "b=img1[:,:,2]\n",
    "\n",
    "plt.subplots_adjust(hspace=0.5,wspace=0.5)\n",
    "plt.subplot(2,2,1)\n",
    "plt.title('Original Image')\n",
    "plt.axis('off')\n",
    "plt.imshow(img1)\n",
    "#will calculate and vizualize in single line of code\n",
    "plt.subplot(2,2,2)\n",
    "plt.title('Red Histogram')\n",
    "plt.hist(r.ravel(),bins=256,range=(0,256))\n",
    "\n",
    "plt.subplot(2,2,3)\n",
    "plt.title('Green Histogram')\n",
    "plt.hist(g.ravel(),bins=256,range=(0,256))\n",
    "\n",
    "plt.subplot(2,2,4)\n",
    "plt.title('Blue Histogram')\n",
    "plt.hist(b.ravel(),bins=256,range=(0,256))\n",
    "plt.show()"
   ]
  },
  {
   "cell_type": "code",
   "execution_count": null,
   "metadata": {},
   "outputs": [],
   "source": []
  }
 ],
 "metadata": {
  "kernelspec": {
   "display_name": "Python 3",
   "language": "python",
   "name": "python3"
  },
  "language_info": {
   "codemirror_mode": {
    "name": "ipython",
    "version": 3
   },
   "file_extension": ".py",
   "mimetype": "text/x-python",
   "name": "python",
   "nbconvert_exporter": "python",
   "pygments_lexer": "ipython3",
   "version": "3.7.1rc2"
  }
 },
 "nbformat": 4,
 "nbformat_minor": 2
}
